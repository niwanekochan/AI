{
  "cells": [
    {
      "cell_type": "markdown",
      "metadata": {
        "id": "view-in-github",
        "colab_type": "text"
      },
      "source": [
        "<a href=\"https://colab.research.google.com/github/niwanekochan/AI/blob/main/sample_editor.ipynb\" target=\"_parent\"><img src=\"https://colab.research.google.com/assets/colab-badge.svg\" alt=\"Open In Colab\"/></a>"
      ]
    },
    {
      "cell_type": "markdown",
      "metadata": {
        "id": "dQRF0OhrhCxc"
      },
      "source": [
        "# sample exercises\n",
        "\n",
        "1. 課題の取り組み方について学習します。"
      ]
    },
    {
      "cell_type": "markdown",
      "metadata": {
        "id": "NFbokiDdhCxd"
      },
      "source": [
        "### 1. 課題の取り組み方について学習します。"
      ]
    },
    {
      "cell_type": "markdown",
      "metadata": {
        "id": "-B_gDh7KhCxd"
      },
      "source": [
        "#### 1.1 「変数num1を定義して、num1に8を代入して、表示してください。」"
      ]
    },
    {
      "cell_type": "code",
      "execution_count": null,
      "metadata": {
        "colab": {
          "base_uri": "https://localhost:8080/"
        },
        "id": "31YeqVpfhCxe",
        "outputId": "4bd0f625-5f1a-4cc5-b713-39cb00a736d6"
      },
      "outputs": [
        {
          "output_type": "stream",
          "name": "stdout",
          "text": [
            "8\n"
          ]
        }
      ],
      "source": [
        "num1 = 8\n",
        "print(num1)"
      ]
    },
    {
      "cell_type": "markdown",
      "metadata": {
        "id": "qx0reRQqhCxe"
      },
      "source": [
        "#### 1.2 「変数num2を定義して、num2に4を代入して、表示してください。」"
      ]
    },
    {
      "cell_type": "code",
      "execution_count": null,
      "metadata": {
        "colab": {
          "base_uri": "https://localhost:8080/"
        },
        "id": "76JyssZ6hCxf",
        "outputId": "c6f8050f-b967-469c-f0f5-ab07a55417e1"
      },
      "outputs": [
        {
          "output_type": "stream",
          "name": "stdout",
          "text": [
            "4\n"
          ]
        }
      ],
      "source": [
        "num2 = 4\n",
        "print(num2)"
      ]
    },
    {
      "cell_type": "markdown",
      "metadata": {
        "id": "vxC-0qAmhCxf"
      },
      "source": [
        "#### 1.3 「変数num1とnum2の和を求めてください。」"
      ]
    },
    {
      "cell_type": "code",
      "execution_count": null,
      "metadata": {
        "colab": {
          "base_uri": "https://localhost:8080/"
        },
        "id": "d0yaeQqJhCxf",
        "outputId": "6b10d565-4cdd-4d05-a1dc-20f0533ae489"
      },
      "outputs": [
        {
          "output_type": "stream",
          "name": "stdout",
          "text": [
            "12\n"
          ]
        }
      ],
      "source": [
        "num1 = 8\n",
        "num2 = 4\n",
        "add_num = num1 + num2\n",
        "print(add_num)"
      ]
    },
    {
      "cell_type": "markdown",
      "metadata": {
        "id": "KZd8-hJQhCxg"
      },
      "source": [
        "#### 1.4 「変数num1とnum2の差を求めてください。」"
      ]
    },
    {
      "cell_type": "code",
      "execution_count": null,
      "metadata": {
        "colab": {
          "base_uri": "https://localhost:8080/"
        },
        "id": "j1dHWBv0hCxg",
        "outputId": "89d287c5-c77e-4399-8023-4b6859d71fe2"
      },
      "outputs": [
        {
          "output_type": "stream",
          "name": "stdout",
          "text": [
            "4\n"
          ]
        }
      ],
      "source": [
        "add_num = num1 - num2\n",
        "print(add_num)"
      ]
    },
    {
      "cell_type": "markdown",
      "metadata": {
        "id": "V69TbES1hCxg"
      },
      "source": [
        "#### 1.5 「変数num1とnum2の積を求めてください。」"
      ]
    },
    {
      "cell_type": "code",
      "execution_count": null,
      "metadata": {
        "colab": {
          "base_uri": "https://localhost:8080/"
        },
        "id": "m5JYVJHLhCxh",
        "outputId": "12d267cc-0c00-43c3-f25f-abdd16aee043"
      },
      "outputs": [
        {
          "output_type": "stream",
          "name": "stdout",
          "text": [
            "32\n"
          ]
        }
      ],
      "source": [
        "add_num = num1 * num2\n",
        "print(add_num)"
      ]
    },
    {
      "cell_type": "markdown",
      "metadata": {
        "id": "gGLBFkqNhCxh"
      },
      "source": [
        "#### 1.6 「変数num1とnum2の商を求めてください。」"
      ]
    },
    {
      "cell_type": "code",
      "execution_count": null,
      "metadata": {
        "colab": {
          "base_uri": "https://localhost:8080/"
        },
        "id": "ofFuG1ZihCxh",
        "outputId": "805c9ae5-a9d4-4e56-8d53-8277912136ed"
      },
      "outputs": [
        {
          "output_type": "stream",
          "name": "stdout",
          "text": [
            "2.0\n"
          ]
        }
      ],
      "source": [
        "add_num = num1 / num2\n",
        "print(add_num)"
      ]
    },
    {
      "cell_type": "code",
      "source": [
        ""
      ],
      "metadata": {
        "id": "vdGEPKauizyK"
      },
      "execution_count": null,
      "outputs": []
    }
  ],
  "metadata": {
    "kernelspec": {
      "display_name": "Python 3",
      "language": "python",
      "name": "python3"
    },
    "language_info": {
      "codemirror_mode": {
        "name": "ipython",
        "version": 3
      },
      "file_extension": ".py",
      "mimetype": "text/x-python",
      "name": "python",
      "nbconvert_exporter": "python",
      "pygments_lexer": "ipython3",
      "version": "3.7.0"
    },
    "toc": {
      "base_numbering": 1,
      "nav_menu": {},
      "number_sections": true,
      "sideBar": true,
      "skip_h1_title": false,
      "title_cell": "Table of Contents",
      "title_sidebar": "Contents",
      "toc_cell": false,
      "toc_position": {},
      "toc_section_display": true,
      "toc_window_display": false
    },
    "varInspector": {
      "cols": {
        "lenName": 16,
        "lenType": 16,
        "lenVar": 40
      },
      "kernels_config": {
        "python": {
          "delete_cmd_postfix": "",
          "delete_cmd_prefix": "del ",
          "library": "var_list.py",
          "varRefreshCmd": "print(var_dic_list())"
        },
        "r": {
          "delete_cmd_postfix": ") ",
          "delete_cmd_prefix": "rm(",
          "library": "var_list.r",
          "varRefreshCmd": "cat(var_dic_list()) "
        }
      },
      "types_to_exclude": [
        "module",
        "function",
        "builtin_function_or_method",
        "instance",
        "_Feature"
      ],
      "window_display": false
    },
    "colab": {
      "name": "sample_editor.ipynb",
      "provenance": [],
      "include_colab_link": true
    }
  },
  "nbformat": 4,
  "nbformat_minor": 0
}