{
  "cells": [
    {
      "cell_type": "markdown",
      "metadata": {
        "id": "view-in-github",
        "colab_type": "text"
      },
      "source": [
        "<a href=\"https://colab.research.google.com/github/niwanekochan/AI/blob/main/numpy_editor.ipynb\" target=\"_parent\"><img src=\"https://colab.research.google.com/assets/colab-badge.svg\" alt=\"Open In Colab\"/></a>"
      ]
    },
    {
      "cell_type": "markdown",
      "metadata": {
        "id": "MPUjjlysgqII"
      },
      "source": [
        "# numpy exercises\n",
        "\n",
        "\n",
        "1. データの状態を確認する方法について学習します。（4問）\n",
        "2. 配列について学習します。（4問）\n",
        "3. スライスについて学習します。（5問）\n",
        "4. 行列について学習します。（基礎）（6問）\n",
        "5. 行列について学習します。（応用）（7問）\n",
        "6. numpyでよく使う機能について学習します。（14問）"
      ]
    },
    {
      "cell_type": "markdown",
      "metadata": {
        "id": "W_kZQPbvgqIL"
      },
      "source": [
        "### 0. 事前準備"
      ]
    },
    {
      "cell_type": "markdown",
      "metadata": {
        "id": "H6QJ3vfMgqIM"
      },
      "source": [
        "#### 0.1 「numpyを読み込んでください。」"
      ]
    },
    {
      "cell_type": "code",
      "execution_count": 2,
      "metadata": {
        "id": "btGjbhlqgqIM"
      },
      "outputs": [],
      "source": [
        "import numpy as np"
      ]
    },
    {
      "cell_type": "markdown",
      "metadata": {
        "id": "xyRKOEYGgqIN"
      },
      "source": [
        "#### 0.2 「以下のコードを読み込んでください。」"
      ]
    },
    {
      "cell_type": "code",
      "execution_count": 3,
      "metadata": {
        "colab": {
          "base_uri": "https://localhost:8080/"
        },
        "id": "1-Yx1zbqgqIO",
        "outputId": "fae84f63-e0b9-45fc-8de4-61ff345bb746"
      },
      "outputs": [
        {
          "output_type": "execute_result",
          "data": {
            "text/plain": [
              "array([[ 0,  1,  2,  3,  4],\n",
              "       [ 5,  6,  7,  8,  9],\n",
              "       [10, 11, 12, 13, 14]])"
            ]
          },
          "metadata": {},
          "execution_count": 3
        }
      ],
      "source": [
        "a = np.arange(15).reshape(3, 5)\n",
        "a"
      ]
    },
    {
      "cell_type": "markdown",
      "metadata": {
        "id": "9yGwkWd5gqIP"
      },
      "source": [
        "### 1. データの状態を確認する方法について学習します。（4問）"
      ]
    },
    {
      "cell_type": "markdown",
      "metadata": {
        "id": "2OBlaIINgqIP"
      },
      "source": [
        "#### 1.1 「行列の大きさを確認してください。」"
      ]
    },
    {
      "cell_type": "code",
      "execution_count": 3,
      "metadata": {
        "colab": {
          "base_uri": "https://localhost:8080/"
        },
        "id": "8_U55vKMgqIV",
        "outputId": "7d0af606-8c2b-4e61-bedc-8f915611ec23"
      },
      "outputs": [
        {
          "output_type": "execute_result",
          "data": {
            "text/plain": [
              "(3, 5)"
            ]
          },
          "metadata": {},
          "execution_count": 3
        }
      ],
      "source": [
        "a.shape"
      ]
    },
    {
      "cell_type": "markdown",
      "metadata": {
        "id": "sT1z-uA5gqIW"
      },
      "source": [
        "#### 1.2 「行列の軸数（次元）を確認してください。」"
      ]
    },
    {
      "cell_type": "code",
      "execution_count": 4,
      "metadata": {
        "colab": {
          "base_uri": "https://localhost:8080/"
        },
        "id": "lGpKEc-DgqIW",
        "outputId": "7e0cfac0-9d24-4133-ea06-52973255ec74"
      },
      "outputs": [
        {
          "output_type": "execute_result",
          "data": {
            "text/plain": [
              "2"
            ]
          },
          "metadata": {},
          "execution_count": 4
        }
      ],
      "source": [
        "a.ndim"
      ]
    },
    {
      "cell_type": "markdown",
      "metadata": {
        "id": "qKHTnzJvgqIX"
      },
      "source": [
        "#### 1.3 「行列のデータ型を確認してください。」"
      ]
    },
    {
      "cell_type": "code",
      "execution_count": 10,
      "metadata": {
        "colab": {
          "base_uri": "https://localhost:8080/"
        },
        "id": "m740Yt6fgqIX",
        "outputId": "daa6a2b6-4a28-4fe7-bbcf-8a2a90ab1524"
      },
      "outputs": [
        {
          "output_type": "execute_result",
          "data": {
            "text/plain": [
              "numpy.ndarray"
            ]
          },
          "metadata": {},
          "execution_count": 10
        }
      ],
      "source": [
        "type(a)"
      ]
    },
    {
      "cell_type": "markdown",
      "metadata": {
        "id": "6rM2O9vbgqIX"
      },
      "source": [
        "#### 1.4 「行列の配列要素を確認してください。」"
      ]
    },
    {
      "cell_type": "code",
      "execution_count": 7,
      "metadata": {
        "colab": {
          "base_uri": "https://localhost:8080/"
        },
        "id": "n5FGoIZlgqIX",
        "outputId": "2452989d-eb9a-477a-9e10-622dd44541db"
      },
      "outputs": [
        {
          "output_type": "execute_result",
          "data": {
            "text/plain": [
              "dtype('int64')"
            ]
          },
          "metadata": {},
          "execution_count": 7
        }
      ],
      "source": [
        "a.dtype"
      ]
    },
    {
      "cell_type": "markdown",
      "metadata": {
        "id": "_IcWYWjvgqIX"
      },
      "source": [
        "### 2. 配列について学習します。（4問）"
      ]
    },
    {
      "cell_type": "markdown",
      "metadata": {
        "id": "zsSaQlPSgqIY"
      },
      "source": [
        "#### 2.1 「8つの「0」が入る配列を作成してください。」"
      ]
    },
    {
      "cell_type": "code",
      "execution_count": 16,
      "metadata": {
        "colab": {
          "base_uri": "https://localhost:8080/"
        },
        "id": "EiR14TUigqIY",
        "outputId": "1c628202-535d-489b-fad5-2cd40e14ac4d"
      },
      "outputs": [
        {
          "output_type": "execute_result",
          "data": {
            "text/plain": [
              "array([0., 0., 0., 0., 0., 0., 0., 0.])"
            ]
          },
          "metadata": {},
          "execution_count": 16
        }
      ],
      "source": [
        "np.zeros(8)"
      ]
    },
    {
      "cell_type": "markdown",
      "metadata": {
        "id": "WktteVljgqIY"
      },
      "source": [
        "#### 2.2 「8つの「0」が入る配列を作成し、5番目の値を「1」に変えてください。」"
      ]
    },
    {
      "cell_type": "code",
      "execution_count": 21,
      "metadata": {
        "colab": {
          "base_uri": "https://localhost:8080/"
        },
        "id": "UbTg1Lj6gqIY",
        "outputId": "d6b6cb11-f372-40f8-f3f7-378305fdefae"
      },
      "outputs": [
        {
          "output_type": "execute_result",
          "data": {
            "text/plain": [
              "array([0., 0., 0., 0., 1., 0., 0., 0., 0.])"
            ]
          },
          "metadata": {},
          "execution_count": 21
        }
      ],
      "source": [
        "num = np.zeros(8)\n",
        "np.insert(num, 4, np.array([1]))"
      ]
    },
    {
      "cell_type": "markdown",
      "metadata": {
        "id": "vNA8UIlCgqIY"
      },
      "source": [
        "#### 2.3 「10～49までの数字が昇順で入った配列を作成してください。」"
      ]
    },
    {
      "cell_type": "code",
      "execution_count": 18,
      "metadata": {
        "colab": {
          "base_uri": "https://localhost:8080/"
        },
        "id": "4_A7Vk4bgqIY",
        "outputId": "ddd51a14-0e1a-477a-eeab-c46caa9cd5a0"
      },
      "outputs": [
        {
          "output_type": "execute_result",
          "data": {
            "text/plain": [
              "array([10, 11, 12, 13, 14, 15, 16, 17, 18, 19, 20, 21, 22, 23, 24, 25, 26,\n",
              "       27, 28, 29, 30, 31, 32, 33, 34, 35, 36, 37, 38, 39, 40, 41, 42, 43,\n",
              "       44, 45, 46, 47, 48, 49])"
            ]
          },
          "metadata": {},
          "execution_count": 18
        }
      ],
      "source": [
        "np.arange(10, stop=50)"
      ]
    },
    {
      "cell_type": "markdown",
      "metadata": {
        "id": "2fHuS51QgqIZ"
      },
      "source": [
        "#### 2.4 「0～39までの数字が降順で入った配列を作成してください。」"
      ]
    },
    {
      "cell_type": "code",
      "execution_count": 19,
      "metadata": {
        "colab": {
          "base_uri": "https://localhost:8080/"
        },
        "id": "vxgb89FEgqIZ",
        "outputId": "005d117f-c4f6-4288-82be-b13f54378ec1"
      },
      "outputs": [
        {
          "output_type": "execute_result",
          "data": {
            "text/plain": [
              "array([39, 38, 37, 36, 35, 34, 33, 32, 31, 30, 29, 28, 27, 26, 25, 24, 23,\n",
              "       22, 21, 20, 19, 18, 17, 16, 15, 14, 13, 12, 11, 10,  9,  8,  7,  6,\n",
              "        5,  4,  3,  2,  1,  0])"
            ]
          },
          "metadata": {},
          "execution_count": 19
        }
      ],
      "source": [
        "num = np.arange(0, stop=40)\n",
        "np.sort(num)[::-1]"
      ]
    },
    {
      "cell_type": "markdown",
      "metadata": {
        "id": "YGFgsfoOgqIZ"
      },
      "source": [
        "### 3. スライスについて学習します。（5問）"
      ]
    },
    {
      "cell_type": "markdown",
      "metadata": {
        "id": "kNvA1BgdgqIZ"
      },
      "source": [
        "#### 3.1 「0~9までの数字が入った配列を作成してください。」"
      ]
    },
    {
      "cell_type": "code",
      "execution_count": 5,
      "metadata": {
        "colab": {
          "base_uri": "https://localhost:8080/"
        },
        "id": "TaMhsZsagqIZ",
        "outputId": "1ce870f9-460a-41f1-b654-c38724885915"
      },
      "outputs": [
        {
          "output_type": "execute_result",
          "data": {
            "text/plain": [
              "array([0, 1, 2, 3, 4, 5, 6, 7, 8, 9])"
            ]
          },
          "metadata": {},
          "execution_count": 5
        }
      ],
      "source": [
        "num = np.arange(0, stop=10)\n",
        "num"
      ]
    },
    {
      "cell_type": "markdown",
      "metadata": {
        "id": "w5rHPvmKgqIZ"
      },
      "source": [
        "#### 3.2 「スライス（:）を使用して、3.1で作成した配列から下記の配列を取り出して下さい。」"
      ]
    },
    {
      "cell_type": "code",
      "execution_count": 6,
      "metadata": {
        "colab": {
          "base_uri": "https://localhost:8080/"
        },
        "id": "dXThGPH_gqIZ",
        "outputId": "77e2cbc3-0aec-4ada-e946-bcf2713c32b3"
      },
      "outputs": [
        {
          "output_type": "execute_result",
          "data": {
            "text/plain": [
              "array([4, 5, 6, 7])"
            ]
          },
          "metadata": {},
          "execution_count": 6
        }
      ],
      "source": [
        "num[4:8]"
      ]
    },
    {
      "cell_type": "markdown",
      "metadata": {
        "id": "IMP2g4qmgqIZ"
      },
      "source": [
        "#### 3.3 「スライス（:）を使用して、3.1で作成した配列から「マイナス」を使用して下記の配列を取り出して下さい。」"
      ]
    },
    {
      "cell_type": "code",
      "execution_count": 9,
      "metadata": {
        "colab": {
          "base_uri": "https://localhost:8080/"
        },
        "id": "m81Dt36JgqIa",
        "outputId": "0d79814e-49e2-4149-f4a9-17bd2086f429"
      },
      "outputs": [
        {
          "output_type": "execute_result",
          "data": {
            "text/plain": [
              "array([4, 5, 6, 7])"
            ]
          },
          "metadata": {},
          "execution_count": 9
        }
      ],
      "source": [
        "num[-6:-2]"
      ]
    },
    {
      "cell_type": "markdown",
      "metadata": {
        "id": "I6n1QtLTgqIa"
      },
      "source": [
        "#### 3.4 「スライス（:）を使用して、3.1で作成した配列から「マイナス」を使用して下記の配列を取り出して下さい。」"
      ]
    },
    {
      "cell_type": "code",
      "execution_count": 10,
      "metadata": {
        "colab": {
          "base_uri": "https://localhost:8080/"
        },
        "id": "MGWeHUc3gqIa",
        "outputId": "e59edf7b-0bfa-410e-eda4-c1cc6adebbd1"
      },
      "outputs": [
        {
          "output_type": "execute_result",
          "data": {
            "text/plain": [
              "array([9, 8, 7, 6, 5, 4, 3, 2, 1, 0])"
            ]
          },
          "metadata": {},
          "execution_count": 10
        }
      ],
      "source": [
        "num[::-1]"
      ]
    },
    {
      "cell_type": "markdown",
      "metadata": {
        "id": "XZnr-V5ZgqIa"
      },
      "source": [
        "#### 3.5 「スライス（:）を使用して、3.1で作成した配列から下記の配列を取り出して下さい。」"
      ]
    },
    {
      "cell_type": "code",
      "execution_count": 11,
      "metadata": {
        "colab": {
          "base_uri": "https://localhost:8080/"
        },
        "id": "CGeHu3IFgqIa",
        "outputId": "1b591edb-7887-49f5-8d24-7e3ca99b5689"
      },
      "outputs": [
        {
          "output_type": "execute_result",
          "data": {
            "text/plain": [
              "array([2, 4, 6])"
            ]
          },
          "metadata": {},
          "execution_count": 11
        }
      ],
      "source": [
        "num[2:8:2]"
      ]
    },
    {
      "cell_type": "markdown",
      "metadata": {
        "id": "_Ba3m-G3gqIa"
      },
      "source": [
        "### 4. 行列について学習します（基礎）（6問）"
      ]
    },
    {
      "cell_type": "markdown",
      "metadata": {
        "id": "N6xjiLr5gqIa"
      },
      "source": [
        "#### 4.1 「0～8までの数字が昇順で入った配列を作成し、3×3の行列を作成してください。」"
      ]
    },
    {
      "cell_type": "code",
      "execution_count": 13,
      "metadata": {
        "colab": {
          "base_uri": "https://localhost:8080/"
        },
        "id": "hwgCcctKgqIb",
        "outputId": "da9d3d07-66de-459e-c43b-79a1139ace41"
      },
      "outputs": [
        {
          "output_type": "execute_result",
          "data": {
            "text/plain": [
              "array([[0, 1, 2],\n",
              "       [3, 4, 5],\n",
              "       [6, 7, 8]])"
            ]
          },
          "metadata": {},
          "execution_count": 13
        }
      ],
      "source": [
        "num = np.arange(9).reshape(3,3)\n",
        "num"
      ]
    },
    {
      "cell_type": "markdown",
      "metadata": {
        "id": "sHlI7LoYgqIb"
      },
      "source": [
        "#### 4.2 「任意の「0」が入っている配列を作成し、「0」以外が入っているインデックスを取得してください。」"
      ]
    },
    {
      "cell_type": "code",
      "execution_count": 25,
      "metadata": {
        "colab": {
          "base_uri": "https://localhost:8080/"
        },
        "id": "6DV5h8N-gqIb",
        "outputId": "1c596a2e-cf44-4200-f756-8961223f9049"
      },
      "outputs": [
        {
          "output_type": "execute_result",
          "data": {
            "text/plain": [
              "(array([0, 0, 1, 2, 2]), array([1, 2, 0, 1, 2]))"
            ]
          },
          "metadata": {},
          "execution_count": 25
        }
      ],
      "source": [
        "num = np.random.randint(0, 9, (3,3))\n",
        "np.nonzero(num)"
      ]
    },
    {
      "cell_type": "markdown",
      "metadata": {
        "id": "FWbhU8LlgqIb"
      },
      "source": [
        "#### 4.3 「3×3の正方行列を作成してください。」"
      ]
    },
    {
      "cell_type": "code",
      "execution_count": 26,
      "metadata": {
        "colab": {
          "base_uri": "https://localhost:8080/"
        },
        "id": "M-s6235CgqIb",
        "outputId": "fd199510-c7a9-4666-ce5f-823f70f1ce1c"
      },
      "outputs": [
        {
          "output_type": "execute_result",
          "data": {
            "text/plain": [
              "array([[1., 0., 0.],\n",
              "       [0., 1., 0.],\n",
              "       [0., 0., 1.]])"
            ]
          },
          "metadata": {},
          "execution_count": 26
        }
      ],
      "source": [
        "np.eye(3)"
      ]
    },
    {
      "cell_type": "markdown",
      "metadata": {
        "id": "hbOnoOcIgqIb"
      },
      "source": [
        "#### 4.4 「3×3×3のランダム値を持つ行列を作成してください。」"
      ]
    },
    {
      "cell_type": "code",
      "execution_count": 28,
      "metadata": {
        "colab": {
          "base_uri": "https://localhost:8080/"
        },
        "id": "yrDtk-1sgqIb",
        "outputId": "878f9daf-52bc-4287-8fb3-0a83430d2013"
      },
      "outputs": [
        {
          "output_type": "execute_result",
          "data": {
            "text/plain": [
              "array([[[0.56957376, 0.31513208, 0.96810893],\n",
              "        [0.53183548, 0.95444314, 0.27095164],\n",
              "        [0.85371988, 0.32229291, 0.61317008]],\n",
              "\n",
              "       [[0.77680499, 0.4760026 , 0.45166713],\n",
              "        [0.22506552, 0.38366096, 0.09853667],\n",
              "        [0.02725491, 0.23558942, 0.60467112]],\n",
              "\n",
              "       [[0.41685258, 0.49069442, 0.27786743],\n",
              "        [0.91231608, 0.68631123, 0.25999834],\n",
              "        [0.28106777, 0.4611004 , 0.1379257 ]]])"
            ]
          },
          "metadata": {},
          "execution_count": 28
        }
      ],
      "source": [
        "np.random.random((3,3,3))"
      ]
    },
    {
      "cell_type": "markdown",
      "metadata": {
        "id": "xtAePKEGgqIc"
      },
      "source": [
        "#### 4.5 「10×10のランダム値を持つ行列を作成し、最小値と最大値を出力してください。」"
      ]
    },
    {
      "cell_type": "code",
      "execution_count": null,
      "metadata": {
        "id": "oTMs5n8tgqIc"
      },
      "outputs": [],
      "source": [
        ""
      ]
    },
    {
      "cell_type": "markdown",
      "metadata": {
        "id": "xQZej5YGgqIc"
      },
      "source": [
        "#### 4.6 「10×10のランダム値を持つ行列を作成し、平均値を出力してください。」"
      ]
    },
    {
      "cell_type": "code",
      "execution_count": null,
      "metadata": {
        "id": "OZUZG6cUgqIc"
      },
      "outputs": [],
      "source": [
        ""
      ]
    },
    {
      "cell_type": "markdown",
      "metadata": {
        "id": "t7HsalvPgqIc"
      },
      "source": [
        "### 5. 行列について学習します（応用）（7問）"
      ]
    },
    {
      "cell_type": "markdown",
      "metadata": {
        "id": "LrNqFXF3gqIc"
      },
      "source": [
        "#### 5.1 「10×10の大きさの、外側だけ値が「1」、内側が全て値が「0」の行列を作成してください。」"
      ]
    },
    {
      "cell_type": "code",
      "execution_count": null,
      "metadata": {
        "id": "ixXCe9jmgqIc"
      },
      "outputs": [],
      "source": [
        ""
      ]
    },
    {
      "cell_type": "markdown",
      "metadata": {
        "id": "z1-O8WfkgqIc"
      },
      "source": [
        "#### 5.2 「10×10の大きさの、外側だけ値が「0」、内側が全て値が「1」の行列を作成してください。」"
      ]
    },
    {
      "cell_type": "code",
      "execution_count": null,
      "metadata": {
        "id": "SlKroAZ1gqId"
      },
      "outputs": [],
      "source": [
        ""
      ]
    },
    {
      "cell_type": "markdown",
      "metadata": {
        "id": "TLiQEdnMgqId"
      },
      "source": [
        "#### 5.3「下記のような4×4の対角行列を作成してください。」"
      ]
    },
    {
      "cell_type": "code",
      "execution_count": null,
      "metadata": {
        "id": "rqzJJCmhgqId"
      },
      "outputs": [],
      "source": [
        ""
      ]
    },
    {
      "cell_type": "markdown",
      "metadata": {
        "id": "02clZlrtgqId"
      },
      "source": [
        "#### 5.4 「下記のような8×8の行列を作成してください。」"
      ]
    },
    {
      "cell_type": "code",
      "execution_count": null,
      "metadata": {
        "id": "NkDHzo86gqId"
      },
      "outputs": [],
      "source": [
        ""
      ]
    },
    {
      "cell_type": "markdown",
      "metadata": {
        "id": "MJyZWsb3gqId"
      },
      "source": [
        "#### 5.5「3×5×2の行列を考えた時に、10番目の要素のインデックスを出力してください。」"
      ]
    },
    {
      "cell_type": "code",
      "execution_count": null,
      "metadata": {
        "id": "JO-8SGpYgqId"
      },
      "outputs": [],
      "source": [
        ""
      ]
    },
    {
      "cell_type": "markdown",
      "metadata": {
        "id": "7WvzTR_egqId"
      },
      "source": [
        "#### 5.6「5×5のランダム値を持つ行列を作成し、行列内の最大値が1、最小値が0になるように正規化してください。」"
      ]
    },
    {
      "cell_type": "code",
      "execution_count": null,
      "metadata": {
        "id": "-IKeE8B_gqId"
      },
      "outputs": [],
      "source": [
        ""
      ]
    },
    {
      "cell_type": "markdown",
      "metadata": {
        "id": "BTZVJxGsgqIe"
      },
      "source": [
        "#### 5.7「5×3の値が全て1の行列と3×2の値が全て1の行列の掛け算を行ってください。」"
      ]
    },
    {
      "cell_type": "code",
      "execution_count": null,
      "metadata": {
        "id": "Ho5E1FgmgqIe"
      },
      "outputs": [],
      "source": [
        ""
      ]
    },
    {
      "cell_type": "markdown",
      "metadata": {
        "id": "VYBiATPHgqIe"
      },
      "source": [
        "### 6. numpyでよく使用する機能について学習します。（14問）"
      ]
    },
    {
      "cell_type": "markdown",
      "metadata": {
        "id": "d77cFMVegqIe"
      },
      "source": [
        "#### 6.1「0～10までの数字を昇順に並べた配列を作成し、4～8までの数字をマイナスに変えて出力してください。」"
      ]
    },
    {
      "cell_type": "code",
      "execution_count": null,
      "metadata": {
        "id": "AY-77eaTgqIe"
      },
      "outputs": [],
      "source": [
        ""
      ]
    },
    {
      "cell_type": "markdown",
      "metadata": {
        "id": "ecV8yJ9mgqIe"
      },
      "source": [
        "#### 6.2「ランダムな整数値を10個もつ配列を2つ作成し、その2つの配列の共通の値を出力してください。」"
      ]
    },
    {
      "cell_type": "code",
      "execution_count": null,
      "metadata": {
        "id": "Ysk1mEklgqIe"
      },
      "outputs": [],
      "source": [
        ""
      ]
    },
    {
      "cell_type": "markdown",
      "metadata": {
        "id": "Hsq0xdvpgqIe"
      },
      "source": [
        "#### 6.3「虚数を出力してください。」"
      ]
    },
    {
      "cell_type": "code",
      "execution_count": null,
      "metadata": {
        "id": "CiQiwrv3gqIe"
      },
      "outputs": [],
      "source": [
        ""
      ]
    },
    {
      "cell_type": "markdown",
      "metadata": {
        "id": "RYrPVS7NgqIe"
      },
      "source": [
        "#### 6.4「今日の日付と明後日の日付を出力してください。」"
      ]
    },
    {
      "cell_type": "code",
      "execution_count": null,
      "metadata": {
        "id": "Vs4VQJvCgqIf"
      },
      "outputs": [],
      "source": [
        ""
      ]
    },
    {
      "cell_type": "markdown",
      "metadata": {
        "id": "1tTLbcsQgqIg"
      },
      "source": [
        "#### 6.5「2019年11月の日付を配列として出力してください。」"
      ]
    },
    {
      "cell_type": "code",
      "execution_count": null,
      "metadata": {
        "id": "c_WWz_WfgqIg"
      },
      "outputs": [],
      "source": [
        ""
      ]
    },
    {
      "cell_type": "markdown",
      "metadata": {
        "id": "-yldWMgSgqIg"
      },
      "source": [
        "#### 6.6「ランダムの値を10個持つ配列を作成し、異なる3パターンで整数として出力してください。」"
      ]
    },
    {
      "cell_type": "code",
      "execution_count": null,
      "metadata": {
        "id": "M-SwWiLygqIg"
      },
      "outputs": [],
      "source": [
        ""
      ]
    },
    {
      "cell_type": "markdown",
      "metadata": {
        "id": "M8dlUQ9ygqIg"
      },
      "source": [
        "#### 6.7「下記のような行列を作成してください。」"
      ]
    },
    {
      "cell_type": "code",
      "execution_count": null,
      "metadata": {
        "id": "9vkB74FRgqIg"
      },
      "outputs": [],
      "source": [
        ""
      ]
    },
    {
      "cell_type": "markdown",
      "metadata": {
        "id": "Xs4XPS23gqIg"
      },
      "source": [
        "#### 6.8「「0」と「1」は含めず、「0」～「1」の間を10分割した配列を作成してください。」"
      ]
    },
    {
      "cell_type": "code",
      "execution_count": null,
      "metadata": {
        "id": "SbxALuzBgqIg"
      },
      "outputs": [],
      "source": [
        ""
      ]
    },
    {
      "cell_type": "markdown",
      "metadata": {
        "id": "oDdwtEbhgqIg"
      },
      "source": [
        "#### 6.9「10のランダム値を持つ配列を作成し、値を昇順にして出力してください。」"
      ]
    },
    {
      "cell_type": "code",
      "execution_count": null,
      "metadata": {
        "id": "Z5yctTywgqIg"
      },
      "outputs": [],
      "source": [
        ""
      ]
    },
    {
      "cell_type": "markdown",
      "metadata": {
        "id": "Lle6hSfwgqIh"
      },
      "source": [
        "#### 6.10「10のランダム値を持つ配列を作成し、MAX値に「0」を置き換えて出力してください。」"
      ]
    },
    {
      "cell_type": "code",
      "execution_count": null,
      "metadata": {
        "id": "QlYQvlw3gqIh"
      },
      "outputs": [],
      "source": [
        ""
      ]
    },
    {
      "cell_type": "markdown",
      "metadata": {
        "id": "PsD3771kgqIh"
      },
      "source": [
        "#### 6.11「下記のような値が軸単位で昇順になっている行列を作成してください。」"
      ]
    },
    {
      "cell_type": "code",
      "execution_count": null,
      "metadata": {
        "id": "Tq4MaePHgqIh"
      },
      "outputs": [],
      "source": [
        ""
      ]
    },
    {
      "cell_type": "markdown",
      "metadata": {
        "id": "PlYcnLdRgqIh"
      },
      "source": [
        "#### 6.12「3×3の値が昇順になっている行列を作成し、インデックスと値を出力してください。」"
      ]
    },
    {
      "cell_type": "code",
      "execution_count": null,
      "metadata": {
        "id": "kBu7oHDGgqIh"
      },
      "outputs": [],
      "source": [
        ""
      ]
    },
    {
      "cell_type": "markdown",
      "metadata": {
        "id": "rep92N-FgqIh"
      },
      "source": [
        "#### 6.13「10×10の「0」行列を作成し、ランダムで20個「1」に変更してください。」"
      ]
    },
    {
      "cell_type": "code",
      "execution_count": null,
      "metadata": {
        "id": "RrxMzsnogqIh"
      },
      "outputs": [],
      "source": [
        ""
      ]
    },
    {
      "cell_type": "markdown",
      "metadata": {
        "id": "NUBVBBFegqIh"
      },
      "source": [
        "#### 6.14「100の整数のランダム要素を持つ配列を作成し、その頻度を出力してください。」"
      ]
    },
    {
      "cell_type": "code",
      "execution_count": 37,
      "metadata": {
        "colab": {
          "base_uri": "https://localhost:8080/"
        },
        "id": "Pxr2gzEHgqIi",
        "outputId": "a9a34436-c727-4782-ffc7-fbd95a032c11"
      },
      "outputs": [
        {
          "output_type": "execute_result",
          "data": {
            "text/plain": [
              "array([0, 1, 0, 0, 1, 0, 2, 0, 0, 1, 0, 0, 1, 1, 1, 2, 3, 0, 0, 2, 2, 0,\n",
              "       2, 1, 0, 0, 0, 2, 2, 3, 1, 1, 0, 0, 1, 0, 2, 3, 2, 0, 0, 0, 0, 2,\n",
              "       1, 1, 3, 5, 1, 2, 1, 2, 2, 0, 1, 1, 3, 0, 1, 0, 0, 1, 1, 1, 0, 3,\n",
              "       0, 0, 0, 1, 1, 1, 0, 1, 1, 1, 0, 3, 1, 0, 3, 3, 1, 1, 1, 0, 0, 1,\n",
              "       0, 0, 0, 1, 1, 1, 2, 1, 2, 0, 3])"
            ]
          },
          "metadata": {},
          "execution_count": 37
        }
      ],
      "source": [
        "num = np.random.randint(0, 100, size=100)\n",
        "np.bincount(num)"
      ]
    },
    {
      "cell_type": "code",
      "source": [
        ""
      ],
      "metadata": {
        "id": "RM4ZfNc-Ojxl"
      },
      "execution_count": null,
      "outputs": []
    }
  ],
  "metadata": {
    "kernelspec": {
      "display_name": "Python 3",
      "language": "python",
      "name": "python3"
    },
    "language_info": {
      "codemirror_mode": {
        "name": "ipython",
        "version": 3
      },
      "file_extension": ".py",
      "mimetype": "text/x-python",
      "name": "python",
      "nbconvert_exporter": "python",
      "pygments_lexer": "ipython3",
      "version": "3.7.6"
    },
    "colab": {
      "name": "numpy_editor.ipynb",
      "provenance": [],
      "include_colab_link": true
    }
  },
  "nbformat": 4,
  "nbformat_minor": 0
}